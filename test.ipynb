{
 "cells": [
  {
   "cell_type": "code",
   "execution_count": 13,
   "metadata": {},
   "outputs": [
    {
     "name": "stdout",
     "output_type": "stream",
     "text": [
      "<!DOCTYPE HTML PUBLIC \"-//IETF//DTD HTML 2.0//EN\">\n",
      "<html>\n",
      "<head><title>404 Not Found</title></head>\n",
      "<body bgcolor=\"white\"><script>\n",
      "with(document)with(body)with(insertBefore(createElement(\"script\"),firstChild))setAttribute(\"exparams\",\"category=&userid=&aplus&yunid=&&trid=213e1f3a16899301048512215ea924&asid=AQAAAAB4SbpkegI5HgAAAAA4wJPDnDnlBQ==\",id=\"tb-beacon-aplus\",src=(location>\"https\"?\"//g\":\"//g\")+\".alicdn.com/alilog/mlog/aplus_v2.js\")\n",
      "</script>\n",
      "\n",
      "<h1>404 Not Found</h1>\n",
      "<p>The requested URL was not found on this server.</body>\n",
      "</html>\n",
      "\n",
      "1\n"
     ]
    }
   ],
   "source": [
    "import requests\n",
    "import json\n",
    "\n",
    "def getUserIP(ip):\n",
    "    url = \"http://ip.taobao.com/service/getIpInfo.php?ip=\"+str(ip)\n",
    "    response =requests.get(url)\n",
    "    content=response.text\n",
    "    print(content)\n",
    "    # if response.text.code==0:\n",
    "    #     site=response.text[\"data\"][\"city\"]\n",
    "    # else:\n",
    "    #     site=\"位置\"\n",
    "    # res={\"ip\":ip,\"site\":site}\n",
    "    return 1\n",
    "\n",
    "print(getUserIP(\"127.0.0.1\"))"
   ]
  },
  {
   "cell_type": "code",
   "execution_count": null,
   "metadata": {},
   "outputs": [],
   "source": []
  }
 ],
 "metadata": {
  "kernelspec": {
   "display_name": "base",
   "language": "python",
   "name": "python3"
  },
  "language_info": {
   "codemirror_mode": {
    "name": "ipython",
    "version": 3
   },
   "file_extension": ".py",
   "mimetype": "text/x-python",
   "name": "python",
   "nbconvert_exporter": "python",
   "pygments_lexer": "ipython3",
   "version": "3.9.13"
  },
  "orig_nbformat": 4
 },
 "nbformat": 4,
 "nbformat_minor": 2
}
