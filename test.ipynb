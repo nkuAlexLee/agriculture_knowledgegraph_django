{
 "cells": [
  {
   "cell_type": "code",
   "execution_count": 1,
   "metadata": {},
   "outputs": [
    {
     "name": "stdout",
     "output_type": "stream",
     "text": [
      "{\"code\":1,\"data\":\"\"}\n",
      "127.0.0.1\n"
     ]
    }
   ],
   "source": [
    "import requests\n",
    "\n",
    "\n",
    "def getUserIP(ip):\n",
    "    url = \"http://ip.taobao.com/service/getIpInfo.php?ip=\"+str(ip)\n",
    "    response = requests.get(url)\n",
    "    if response.text[\"code\"]==0:\n",
    "        site=response.text[\"data\"][\"city\"]\n",
    "    else:\n",
    "        site=\"位置\"\n",
    "    res={\"ip\":ip,\"site\":site}\n",
    "    return \n",
    "\n",
    "print(getUserIP(\"127.0.0.1\"))"
   ]
  }
 ],
 "metadata": {
  "kernelspec": {
   "display_name": "base",
   "language": "python",
   "name": "python3"
  },
  "language_info": {
   "codemirror_mode": {
    "name": "ipython",
    "version": 3
   },
   "file_extension": ".py",
   "mimetype": "text/x-python",
   "name": "python",
   "nbconvert_exporter": "python",
   "pygments_lexer": "ipython3",
   "version": "3.9.13"
  },
  "orig_nbformat": 4
 },
 "nbformat": 4,
 "nbformat_minor": 2
}
