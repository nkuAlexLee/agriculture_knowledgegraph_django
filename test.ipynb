{
 "cells": [
  {
   "cell_type": "code",
   "execution_count": 7,
   "metadata": {},
   "outputs": [
    {
     "name": "stdout",
     "output_type": "stream",
     "text": [
      "{'success': True, 'ip': '127.0.0.1', 'info': {'country': '本机地址', 'prov': '-', 'city': '-', 'lsp': '本机地址', 'postcode': '0'}}\n",
      "{'ip': '127.0.0.1', 'city': '-'}\n"
     ]
    }
   ],
   "source": [
    "import requests\n",
    "import json\n",
    "\n",
    "def getUserIP(ip):\n",
    "    url = \"https://api.vvhan.com/api/getIpInfo?ip=\"+str(ip)\n",
    "    response =requests.get(url)\n",
    "    if response.status_code==200:\n",
    "        content=json.loads(response.content)\n",
    "        print(content)\n",
    "        if content[\"success\"]==True:\n",
    "            city=content[\"info\"][\"city\"]\n",
    "        else:\n",
    "            city=\"未知\"\n",
    "    else:\n",
    "        city=\"未知\"\n",
    "    res={\"ip\":ip,\"city\":city}\n",
    "    return res\n",
    "\n",
    "print(getUserIP(\"127.0.0.1\"))"
   ]
  }
 ],
 "metadata": {
  "kernelspec": {
   "display_name": "base",
   "language": "python",
   "name": "python3"
  },
  "language_info": {
   "codemirror_mode": {
    "name": "ipython",
    "version": 3
   },
   "file_extension": ".py",
   "mimetype": "text/x-python",
   "name": "python",
   "nbconvert_exporter": "python",
   "pygments_lexer": "ipython3",
   "version": "3.9.13"
  },
  "orig_nbformat": 4
 },
 "nbformat": 4,
 "nbformat_minor": 2
}
